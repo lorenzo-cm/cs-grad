{
 "cells": [
  {
   "cell_type": "code",
   "execution_count": 1,
   "metadata": {},
   "outputs": [],
   "source": [
    "import pandas as pd\n",
    "import numpy as np"
   ]
  },
  {
   "cell_type": "code",
   "execution_count": 2,
   "metadata": {},
   "outputs": [
    {
     "data": {
      "text/plain": [
       "array([[inf, 2.5, 2.5, 2.5, inf],\n",
       "       [inf, 1. , 6. , 1. , inf],\n",
       "       [inf, 1. , 1.5, 1. , inf]])"
      ]
     },
     "execution_count": 2,
     "metadata": {},
     "output_type": "execute_result"
    }
   ],
   "source": [
    "from settings import *\n",
    "import numpy as np\n",
    "from utils.get_neighbors import get_neighbors\n",
    "\n",
    "def read_map(file_path):\n",
    "    with open(file_path, 'r') as f:\n",
    "        lines = f.readlines()\n",
    "\n",
    "    matrix = [list(line.strip()) for line in lines[1:]]    \n",
    "    cost_matrix = np.array([[CHAR_COSTS[char] for char in row] for row in matrix])\n",
    "    \n",
    "    return cost_matrix\n",
    "\n",
    "matrix= read_map('../input/mapa_teste.map')\n",
    "matrix"
   ]
  }
 ],
 "metadata": {
  "kernelspec": {
   "display_name": "Python 3",
   "language": "python",
   "name": "python3"
  },
  "language_info": {
   "codemirror_mode": {
    "name": "ipython",
    "version": 3
   },
   "file_extension": ".py",
   "mimetype": "text/x-python",
   "name": "python",
   "nbconvert_exporter": "python",
   "pygments_lexer": "ipython3",
   "version": "3.12.3"
  }
 },
 "nbformat": 4,
 "nbformat_minor": 2
}
